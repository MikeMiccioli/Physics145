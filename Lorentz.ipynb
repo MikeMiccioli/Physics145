{
 "cells": [
  {
   "cell_type": "code",
   "execution_count": 68,
   "metadata": {},
   "outputs": [],
   "source": [
    "import numpy as np\n",
    "import math"
   ]
  },
  {
   "cell_type": "code",
   "execution_count": 69,
   "metadata": {},
   "outputs": [],
   "source": [
    "def lorentz(p_input,gamma,theta,phi):\n",
    "    Lambda=np.array([[gamma, -math.sqrt(-1 + gamma**2)*math.cos(phi)*math.sin(theta), -math.sqrt(-1 + gamma**2)*math.sin(theta)*math.sin(phi), -math.sqrt(-1 + gamma**2)*math.cos(theta)], \n",
    "                 [-math.sqrt(-1 + gamma**2)*math.cos(phi)*math.sin(theta), 1 + (-1 + gamma)*math.cos(phi)**2*math.sin(theta)**2, (-1 + gamma)*math.cos(phi)*math.sin(theta)**2*math.sin(phi), (-1 + gamma)*math.cos(theta)*math.cos(phi)*math.sin(theta)], \n",
    "                 [-math.sqrt(-1 + gamma**2)*math.sin(theta)*math.sin(phi), (-1 + gamma)*math.cos(phi)*math.sin(theta)**2*math.sin(phi), 1 + (-1 + gamma)*math.sin(theta)**2*math.sin(phi)**2, (-1 + gamma)*math.cos(theta)*math.sin(theta)*math.sin(phi)], \n",
    "                 [-math.sqrt(-1 + gamma**2)*math.cos(theta), (-1 + gamma)*math.cos(theta)*math.cos(phi)*math.sin(theta), (-1 + gamma)*math.cos(theta)*math.sin(theta)*math.sin(phi), 1 + (-1 + gamma)*math.cos(theta)**2]])\n",
    "    p_output=np.dot(Lambda,p_input);\n",
    "    \n",
    "    print(\"Initial values:\")\n",
    "    print(\"p input=\",p_input)\n",
    "    print(\"gamma=\",gamma)\n",
    "    print(\"theta=\",theta)\n",
    "    print(\"phi=\",phi)\n",
    "    \n",
    "    print(\"Output:\")\n",
    "    print(\"p output=\",p_output)\n",
    "    \n",
    "    #Invariance Confirmation:\n",
    "    print(\"Invariance Confirmation:\")\n",
    "    p_input_squared=p_input[0]**2-p_input[1]**2-p_input[2]**2-p_input[3]**2;\n",
    "    p_output_squared=p_output[0]**2-p_output[1]**2-p_output[2]**2-p_output[3]**2;\n",
    "    \n",
    "    print(\"p_input_squared=\",p_input_squared)\n",
    "    print(\"p_output_squared=\",p_output_squared)\n",
    "    \n",
    "    return(p_output);"
   ]
  },
  {
   "cell_type": "code",
   "execution_count": 70,
   "metadata": {},
   "outputs": [
    {
     "name": "stdout",
     "output_type": "stream",
     "text": [
      "Initial values:\n",
      "p input= [ 1.   0.5 -0.5  0.1]\n",
      "gamma= 4\n",
      "theta= 0.3\n",
      "phi= 0.2\n",
      "Output:\n",
      "p output= [ 3.18282768 -0.43840078 -0.69022325 -2.99529441]\n",
      "Invariance Confirmation:\n",
      "p_input_squared= 0.49\n",
      "p_output_squared= 0.4900000000000002\n"
     ]
    }
   ],
   "source": [
    "#Example\n",
    "lorentz(np.array([1,0.5,-0.5,0.1]),4,0.3,0.2);"
   ]
  },
  {
   "cell_type": "code",
   "execution_count": null,
   "metadata": {},
   "outputs": [],
   "source": []
  }
 ],
 "metadata": {
  "kernelspec": {
   "display_name": "Python 3",
   "language": "python",
   "name": "python3"
  },
  "language_info": {
   "codemirror_mode": {
    "name": "ipython",
    "version": 3
   },
   "file_extension": ".py",
   "mimetype": "text/x-python",
   "name": "python",
   "nbconvert_exporter": "python",
   "pygments_lexer": "ipython3",
   "version": "3.7.6"
  }
 },
 "nbformat": 4,
 "nbformat_minor": 4
}
